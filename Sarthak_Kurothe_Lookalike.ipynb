{
  "nbformat": 4,
  "nbformat_minor": 0,
  "metadata": {
    "colab": {
      "provenance": []
    },
    "kernelspec": {
      "name": "python3",
      "display_name": "Python 3"
    },
    "language_info": {
      "name": "python"
    }
  },
  "cells": [
    {
      "cell_type": "code",
      "execution_count": 1,
      "metadata": {
        "id": "RU7qnNIW6Ayt"
      },
      "outputs": [],
      "source": [
        "import pandas as pd\n",
        "import numpy as np\n",
        "from sklearn.metrics.pairwise import cosine_similarity\n",
        "\n",
        "# Step 1: Load the datasets\n",
        "customers = pd.read_csv(\"Customers.csv\")\n",
        "products = pd.read_csv(\"Products.csv\")\n",
        "transactions = pd.read_csv(\"Transactions.csv\")"
      ]
    },
    {
      "cell_type": "code",
      "source": [
        "# Step 2: Data Preprocessing\n",
        "# Merge transactions with product data\n",
        "transactions = transactions.merge(products, on=\"ProductID\", how=\"left\")\n",
        "\n",
        "# Merge with customer data\n",
        "data = transactions.merge(customers, on=\"CustomerID\", how=\"left\")"
      ],
      "metadata": {
        "id": "JT6PBMyg6XoT"
      },
      "execution_count": 2,
      "outputs": []
    },
    {
      "cell_type": "code",
      "source": [
        "# Step 3: Feature Engineering\n",
        "# Calculate total spending per customer\n",
        "total_spending = data.groupby(\"CustomerID\")[\"TotalValue\"].sum().rename(\"TotalSpending\")\n",
        "\n",
        "# Calculate purchase frequency per customer\n",
        "purchase_frequency = data.groupby(\"CustomerID\")[\"TransactionID\"].nunique().rename(\"PurchaseFrequency\")\n",
        "\n",
        "# Calculate category preferences (percentage of spending in each category)\n",
        "category_spending = data.groupby([\"CustomerID\", \"Category\"])['TotalValue'].sum().unstack(fill_value=0)\n",
        "category_spending = category_spending.div(category_spending.sum(axis=1), axis=0)\n",
        "\n",
        "# Combine features into a single dataframe\n",
        "customer_features = pd.concat([total_spending, purchase_frequency, category_spending], axis=1).fillna(0)"
      ],
      "metadata": {
        "id": "4bZZAcWB6eaz"
      },
      "execution_count": 3,
      "outputs": []
    },
    {
      "cell_type": "code",
      "source": [
        "# Step 4: Compute Similarity Matrix\n",
        "# Normalize features\n",
        "def normalize(df):\n",
        "    return (df - df.min()) / (df.max() - df.min())\n",
        "\n",
        "normalized_features = normalize(customer_features)\n",
        "\n",
        "# Compute cosine similarity\n",
        "similarity_matrix = cosine_similarity(normalized_features)\n",
        "similarity_df = pd.DataFrame(similarity_matrix, index=customer_features.index, columns=customer_features.index)"
      ],
      "metadata": {
        "id": "pUN6Uk3x6h5J"
      },
      "execution_count": 4,
      "outputs": []
    },
    {
      "cell_type": "code",
      "source": [
        "# Step 5: Lookalike Recommendation\n",
        "# Function to get top 3 lookalikes for a customer\n",
        "def get_top_lookalikes(customer_id, similarity_df, top_n=3):\n",
        "    similar_customers = similarity_df[customer_id].sort_values(ascending=False)[1:top_n+1]\n",
        "    return [(cust, round(score, 4)) for cust, score in similar_customers.items()]\n",
        "\n",
        "# Generate lookalikes for the first 20 customers\n",
        "lookalike_results = {}\n",
        "for customer_id in customers.iloc[:20].CustomerID:\n",
        "    lookalike_results[customer_id] = get_top_lookalikes(customer_id, similarity_df)"
      ],
      "metadata": {
        "id": "NrpTqbyR6l5S"
      },
      "execution_count": 5,
      "outputs": []
    },
    {
      "cell_type": "code",
      "source": [
        "# Step 6: Save Results to CSV\n",
        "# Convert results into a DataFrame\n",
        "lookalike_output = []\n",
        "for customer_id, lookalikes in lookalike_results.items():\n",
        "    for similar_customer, score in lookalikes:\n",
        "        lookalike_output.append({\"CustomerID\": customer_id, \"SimilarCustomerID\": similar_customer, \"Score\": score})\n",
        "\n",
        "lookalike_df = pd.DataFrame(lookalike_output)\n",
        "lookalike_df.to_csv(\"Lookalike.csv\", index=False)\n",
        "\n",
        "print(\"Lookalike recommendations saved to 'Lookalike.csv'\")"
      ],
      "metadata": {
        "colab": {
          "base_uri": "https://localhost:8080/"
        },
        "id": "h2NpS5fR6pYZ",
        "outputId": "8bfd6382-6367-484c-c9a8-09dfcb4b6870"
      },
      "execution_count": 6,
      "outputs": [
        {
          "output_type": "stream",
          "name": "stdout",
          "text": [
            "Lookalike recommendations saved to 'Lookalike.csv'\n"
          ]
        }
      ]
    }
  ]
}